{
  "nbformat": 4,
  "nbformat_minor": 0,
  "metadata": {
    "colab": {
      "name": "project_vgames.ipynb",
      "provenance": [],
      "collapsed_sections": []
    },
    "kernelspec": {
      "name": "python3",
      "display_name": "Python 3"
    },
    "language_info": {
      "name": "python"
    }
  },
  "cells": [
    {
      "cell_type": "code",
      "metadata": {
        "colab": {
          "resources": {
            "http://localhost:8080/nbextensions/google.colab/files.js": {
              "data": "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",
              "ok": true,
              "headers": [
                [
                  "content-type",
                  "application/javascript"
                ]
              ],
              "status": 200,
              "status_text": ""
            }
          },
          "base_uri": "https://localhost:8080/",
          "height": 76
        },
        "id": "Iu-J6WPxFXLF",
        "outputId": "c8de808c-a59c-4507-8754-e38c752380d8"
      },
      "source": [
        "from google.colab import files\n",
        "uploads = files.upload()"
      ],
      "execution_count": 1,
      "outputs": [
        {
          "output_type": "display_data",
          "data": {
            "text/html": [
              "\n",
              "     <input type=\"file\" id=\"files-5f2b83ba-863f-4e75-9652-edf48af04b18\" name=\"files[]\" multiple disabled\n",
              "        style=\"border:none\" />\n",
              "     <output id=\"result-5f2b83ba-863f-4e75-9652-edf48af04b18\">\n",
              "      Upload widget is only available when the cell has been executed in the\n",
              "      current browser session. Please rerun this cell to enable.\n",
              "      </output>\n",
              "      <script src=\"/nbextensions/google.colab/files.js\"></script> "
            ],
            "text/plain": [
              "<IPython.core.display.HTML object>"
            ]
          },
          "metadata": {
            "tags": []
          }
        },
        {
          "output_type": "stream",
          "text": [
            "Saving vgames2.csv to vgames2.csv\n"
          ],
          "name": "stdout"
        }
      ]
    },
    {
      "cell_type": "code",
      "metadata": {
        "colab": {
          "base_uri": "https://localhost:8080/",
          "height": 417
        },
        "id": "93_jcFx2FjwX",
        "outputId": "be663bd1-6786-420c-93f2-df8417b569f1"
      },
      "source": [
        "import pandas as pd\n",
        "import numpy as np\n",
        "\n",
        "# vgames 데이터셋 결측치 및 필요없는 값, 열 제거\n",
        "df = pd.read_csv('vgames2.csv')\n",
        "df = df.dropna()\n",
        "df = df.sort_values(by=['Year'], axis=0)\n",
        "df = df.reset_index().drop(columns=['index', 'Unnamed: 0'])\n",
        "drop_error = df[(df['Year'] >= 1900) & (df['Platform'] != '2600')]\n",
        "df_sorted = drop_error.reset_index().drop(columns=['index'])\n",
        "\n",
        "# Sales 열에 K, M 문자 제거 (K, M을 각각 1e3, 1e6으로 변환하면 범위가 너무 커져서 다루기 힘듬)\n",
        "def remove_km(df, col):\n",
        "  for i in df.index:# 행으로 접근\n",
        "    val = df.loc[i, col] # loc(행 인덱스 번호, 열 이름)\n",
        "    if 'K' in val:\n",
        "      splited_k = df.loc[i, col].split('K')\n",
        "      splited_k = float(splited_k[0])\n",
        "      df.loc[i, col] = str(splited_k)\n",
        "      continue\n",
        "    if 'M' in val:\n",
        "      splited_M = df.loc[i, col].split('M')\n",
        "      splited_M = float(splited_M[0])\n",
        "      df.loc[i, col] = str(splited_M)\n",
        "\n",
        "# 정의한 함수 데이터프레임에 적용\n",
        "remove_km(df_sorted, 'NA_Sales')\n",
        "remove_km(df_sorted, 'EU_Sales')\n",
        "remove_km(df_sorted, 'JP_Sales')\n",
        "remove_km(df_sorted, 'Other_Sales')\n",
        "\n",
        "# Sales 열 실수로 변환\n",
        "for i in df_sorted:\n",
        "  if i == 'Name' or i == 'Platform' or i == 'Year' or i == 'Genre' or i == 'Publisher':\n",
        "    continue\n",
        "  df_sorted[i] = round(df_sorted[i].apply(float), 2)\n",
        "\n",
        "df_ps = df_sorted.copy()\n",
        "df_platform = df_sorted.copy()\n",
        "df_best = df_sorted.copy()\n",
        "\n",
        "# 4개의 열의 데이터가 모두 같으면 Sales 값을 다 합침 Groupby.agg() 함수 사용\n",
        "df_sorted = df_sorted.groupby(['Name', 'Year', 'Genre', 'Publisher']).agg({'Platform':', '.join, 'NA_Sales':sum, 'EU_Sales':sum, 'JP_Sales':sum, 'Other_Sales':sum}).reset_index()\n",
        "df_sorted"
      ],
      "execution_count": 390,
      "outputs": [
        {
          "output_type": "execute_result",
          "data": {
            "text/html": [
              "<div>\n",
              "<style scoped>\n",
              "    .dataframe tbody tr th:only-of-type {\n",
              "        vertical-align: middle;\n",
              "    }\n",
              "\n",
              "    .dataframe tbody tr th {\n",
              "        vertical-align: top;\n",
              "    }\n",
              "\n",
              "    .dataframe thead th {\n",
              "        text-align: right;\n",
              "    }\n",
              "</style>\n",
              "<table border=\"1\" class=\"dataframe\">\n",
              "  <thead>\n",
              "    <tr style=\"text-align: right;\">\n",
              "      <th></th>\n",
              "      <th>Name</th>\n",
              "      <th>Year</th>\n",
              "      <th>Genre</th>\n",
              "      <th>Publisher</th>\n",
              "      <th>Platform</th>\n",
              "      <th>NA_Sales</th>\n",
              "      <th>EU_Sales</th>\n",
              "      <th>JP_Sales</th>\n",
              "      <th>Other_Sales</th>\n",
              "    </tr>\n",
              "  </thead>\n",
              "  <tbody>\n",
              "    <tr>\n",
              "      <th>0</th>\n",
              "      <td>'98 Koshien</td>\n",
              "      <td>1998.0</td>\n",
              "      <td>Sports</td>\n",
              "      <td>Magical Company</td>\n",
              "      <td>PS</td>\n",
              "      <td>0.15</td>\n",
              "      <td>0.10</td>\n",
              "      <td>0.12</td>\n",
              "      <td>0.03</td>\n",
              "    </tr>\n",
              "    <tr>\n",
              "      <th>1</th>\n",
              "      <td>.hack//G.U. Vol.1//Rebirth</td>\n",
              "      <td>2006.0</td>\n",
              "      <td>Role-Playing</td>\n",
              "      <td>Namco Bandai Games</td>\n",
              "      <td>PS2</td>\n",
              "      <td>0.00</td>\n",
              "      <td>0.00</td>\n",
              "      <td>0.17</td>\n",
              "      <td>0.00</td>\n",
              "    </tr>\n",
              "    <tr>\n",
              "      <th>2</th>\n",
              "      <td>.hack//G.U. Vol.2//Reminisce</td>\n",
              "      <td>2006.0</td>\n",
              "      <td>Role-Playing</td>\n",
              "      <td>Namco Bandai Games</td>\n",
              "      <td>PS2</td>\n",
              "      <td>0.11</td>\n",
              "      <td>0.09</td>\n",
              "      <td>0.00</td>\n",
              "      <td>0.03</td>\n",
              "    </tr>\n",
              "    <tr>\n",
              "      <th>3</th>\n",
              "      <td>.hack//G.U. Vol.2//Reminisce (jp sales)</td>\n",
              "      <td>2006.0</td>\n",
              "      <td>Role-Playing</td>\n",
              "      <td>Namco Bandai Games</td>\n",
              "      <td>PS2</td>\n",
              "      <td>0.00</td>\n",
              "      <td>0.00</td>\n",
              "      <td>0.16</td>\n",
              "      <td>0.00</td>\n",
              "    </tr>\n",
              "    <tr>\n",
              "      <th>4</th>\n",
              "      <td>.hack//G.U. Vol.3//Redemption</td>\n",
              "      <td>2007.0</td>\n",
              "      <td>Role-Playing</td>\n",
              "      <td>Namco Bandai Games</td>\n",
              "      <td>PS2</td>\n",
              "      <td>0.00</td>\n",
              "      <td>0.00</td>\n",
              "      <td>0.17</td>\n",
              "      <td>0.00</td>\n",
              "    </tr>\n",
              "    <tr>\n",
              "      <th>...</th>\n",
              "      <td>...</td>\n",
              "      <td>...</td>\n",
              "      <td>...</td>\n",
              "      <td>...</td>\n",
              "      <td>...</td>\n",
              "      <td>...</td>\n",
              "      <td>...</td>\n",
              "      <td>...</td>\n",
              "      <td>...</td>\n",
              "    </tr>\n",
              "    <tr>\n",
              "      <th>12026</th>\n",
              "      <td>thinkSMART FAMILY!</td>\n",
              "      <td>2010.0</td>\n",
              "      <td>Misc</td>\n",
              "      <td>Conspiracy Entertainment</td>\n",
              "      <td>Wii</td>\n",
              "      <td>0.03</td>\n",
              "      <td>0.00</td>\n",
              "      <td>0.00</td>\n",
              "      <td>0.00</td>\n",
              "    </tr>\n",
              "    <tr>\n",
              "      <th>12027</th>\n",
              "      <td>thinkSMART: Chess for Kids</td>\n",
              "      <td>2011.0</td>\n",
              "      <td>Misc</td>\n",
              "      <td>Mentor Interactive</td>\n",
              "      <td>DS</td>\n",
              "      <td>0.01</td>\n",
              "      <td>0.00</td>\n",
              "      <td>0.00</td>\n",
              "      <td>0.00</td>\n",
              "    </tr>\n",
              "    <tr>\n",
              "      <th>12028</th>\n",
              "      <td>uDraw Studio</td>\n",
              "      <td>2010.0</td>\n",
              "      <td>Misc</td>\n",
              "      <td>THQ</td>\n",
              "      <td>Wii</td>\n",
              "      <td>1.67</td>\n",
              "      <td>0.58</td>\n",
              "      <td>0.00</td>\n",
              "      <td>0.20</td>\n",
              "    </tr>\n",
              "    <tr>\n",
              "      <th>12029</th>\n",
              "      <td>uDraw Studio: Instant Artist</td>\n",
              "      <td>2011.0</td>\n",
              "      <td>Misc</td>\n",
              "      <td>THQ</td>\n",
              "      <td>X360, Wii</td>\n",
              "      <td>0.09</td>\n",
              "      <td>0.10</td>\n",
              "      <td>0.00</td>\n",
              "      <td>0.02</td>\n",
              "    </tr>\n",
              "    <tr>\n",
              "      <th>12030</th>\n",
              "      <td>¡Shin Chan Flipa en colores!</td>\n",
              "      <td>2007.0</td>\n",
              "      <td>Platform</td>\n",
              "      <td>505 Games</td>\n",
              "      <td>DS</td>\n",
              "      <td>0.00</td>\n",
              "      <td>0.00</td>\n",
              "      <td>0.14</td>\n",
              "      <td>0.00</td>\n",
              "    </tr>\n",
              "  </tbody>\n",
              "</table>\n",
              "<p>12031 rows × 9 columns</p>\n",
              "</div>"
            ],
            "text/plain": [
              "                                          Name    Year  ... JP_Sales Other_Sales\n",
              "0                                  '98 Koshien  1998.0  ...     0.12        0.03\n",
              "1                   .hack//G.U. Vol.1//Rebirth  2006.0  ...     0.17        0.00\n",
              "2                 .hack//G.U. Vol.2//Reminisce  2006.0  ...     0.00        0.03\n",
              "3      .hack//G.U. Vol.2//Reminisce (jp sales)  2006.0  ...     0.16        0.00\n",
              "4                .hack//G.U. Vol.3//Redemption  2007.0  ...     0.17        0.00\n",
              "...                                        ...     ...  ...      ...         ...\n",
              "12026                       thinkSMART FAMILY!  2010.0  ...     0.00        0.00\n",
              "12027               thinkSMART: Chess for Kids  2011.0  ...     0.00        0.00\n",
              "12028                             uDraw Studio  2010.0  ...     0.00        0.20\n",
              "12029             uDraw Studio: Instant Artist  2011.0  ...     0.00        0.02\n",
              "12030             ¡Shin Chan Flipa en colores!  2007.0  ...     0.14        0.00\n",
              "\n",
              "[12031 rows x 9 columns]"
            ]
          },
          "metadata": {
            "tags": []
          },
          "execution_count": 390
        }
      ]
    },
    {
      "cell_type": "code",
      "metadata": {
        "id": "_p8mQNEPSOQN"
      },
      "source": [
        "# 지역에 따라서 선호하는 게임 장르가 다를까\n",
        "\n",
        "# 1. 장르(Genre)를 기준으로 묶고, Sales 열은 중복된 장르는 해당 Sales 값을 다 합함. \n",
        "df_genre = df_sorted.copy()\n",
        "df_genre = df_genre.groupby(['Genre']).agg({'Name':'first', 'Year': 'first', 'Publisher':','.join, 'Platform': ','.join, 'NA_Sales': sum, 'EU_Sales':sum, 'JP_Sales':sum, 'Other_Sales':sum}).reset_index()\n",
        "\n",
        "# 2. Sales 열을 제외한 나머지 열은 위의 주제에 필요없으므로, 결측치로 대체한다.\n",
        "def remove_name(df, col):\n",
        "  for i in df.index:\n",
        "    val = df.loc[i, col]\n",
        "    val = '-'\n",
        "    df.loc[i, col] = val\n",
        "\n",
        "# 2.1 위의 함수(결측치 대체 함수)를 필요없는 열에 적용\n",
        "remove_name(df_genre, 'Name')\n",
        "remove_name(df_genre, 'Year')\n",
        "remove_name(df_genre, 'Publisher')\n",
        "remove_name(df_genre, 'Platform')"
      ],
      "execution_count": 250,
      "outputs": []
    },
    {
      "cell_type": "code",
      "metadata": {
        "colab": {
          "base_uri": "https://localhost:8080/",
          "height": 350
        },
        "id": "z7Y3KJ6OWx1H",
        "outputId": "5691f42e-a42a-4ebe-8535-3dec84487e11"
      },
      "source": [
        "# 북미(NA)지역에서 선호하는 게임을 분석 및 시각화\n",
        "import matplotlib.pyplot as plt\n",
        "\n",
        "df_NA = df_genre.copy()\n",
        "df_NA = df_NA.sort_values(by=['NA_Sales'], axis=0, ascending=False).reset_index().drop(columns=['index']) # 내림차순 정렬 및 인덱스 초기화\n",
        "\n",
        "# 지역에서 선호하는 게임의 장르를 비율로 변환\n",
        "def calculate_percentage(df, col):\n",
        "  val_sum = 0\n",
        "  for i in df.index:\n",
        "    val = df.loc[i, col]\n",
        "    val_sum += val\n",
        "  \n",
        "  for j in df.index:\n",
        "    # ds = df.copy()\n",
        "    data = df.loc[j, col]\n",
        "    data = (data/val_sum) * 100\n",
        "    df.loc[j, col] = round(data, 2)\n",
        "  return df\n",
        "\n",
        "# 함수 적용\n",
        "df_NA_percentage = calculate_percentage(df_NA, 'NA_Sales')\n",
        "\n",
        "# 막대 그래프로 시각화\n",
        "plt.rcParams[\"figure.figsize\"] = (16,5) # 그래프 창 크기 조절\n",
        "x_na = np.array(df_NA_percentage['Genre'])\n",
        "y_na = np.array(df_NA_percentage['NA_Sales'])\n",
        "plt.bar(x_na, y_na)\n",
        "plt.title('NA Game Genre Preference Comparison Graph')\n",
        "plt.xlabel('Genre')\n",
        "plt.ylabel('percentage of NA game preference')\n",
        "plt.show();"
      ],
      "execution_count": 251,
      "outputs": [
        {
          "output_type": "display_data",
          "data": {
            "image/png": "[encoded data removed]",
            "text/plain": [
              "<Figure size 1152x360 with 1 Axes>"
            ]
          },
          "metadata": {
            "tags": [],
            "needs_background": "light"
          }
        }
      ]
    },
    {
      "cell_type": "code",
      "metadata": {
        "colab": {
          "base_uri": "https://localhost:8080/",
          "height": 350
        },
        "id": "bNlY7egraWTi",
        "outputId": "2d359b16-4d1e-40a8-cc03-32075c87501a"
      },
      "source": [
        "# 유럽(EU)지역에서 선호하는 게임을 분석 및 시각화\n",
        "\n",
        "df_EU = df_genre.copy()\n",
        "df_EU_percentage = calculate_percentage(df_EU, 'EU_Sales')\n",
        "df_EU_percentage\n",
        "\n",
        "# 시각화\n",
        "plt.rcParams[\"figure.figsize\"] = (16,5)\n",
        "x_eu = np.array(df_EU_percentage['Genre'])\n",
        "y_eu = np.array(df_EU_percentage['EU_Sales'])\n",
        "plt.bar(x_eu, y_eu)\n",
        "plt.title('EU Game Genre Preference Comparison Graph')\n",
        "plt.xlabel('Genre')\n",
        "plt.ylabel('percentage of EU game preference')\n",
        "plt.show();"
      ],
      "execution_count": 252,
      "outputs": [
        {
          "output_type": "display_data",
          "data": {
            "image/png": "[encoded data removed]",
            "text/plain": [
              "<Figure size 1152x360 with 1 Axes>"
            ]
          },
          "metadata": {
            "tags": [],
            "needs_background": "light"
          }
        }
      ]
    },
    {
      "cell_type": "code",
      "metadata": {
        "colab": {
          "base_uri": "https://localhost:8080/",
          "height": 350
        },
        "id": "Hg9lE2H9eaOn",
        "outputId": "5476ac21-fa1c-45fc-d88d-68e429961ed7"
      },
      "source": [
        "# 일본(JP)지역에서 선호하는 게임을 분석 및 시각화\n",
        "\n",
        "df_JP = df_genre.copy()\n",
        "df_JP_percentage = calculate_percentage(df_JP, 'JP_Sales')\n",
        "\n",
        "# 시각화\n",
        "x_jp = np.array(df_JP_percentage['Genre'])\n",
        "y_jp = np.array(df_JP_percentage['JP_Sales'])\n",
        "plt.rcParams[\"figure.figsize\"] = (16,5)\n",
        "plt.bar(x_jp, y_jp)\n",
        "plt.title('JP Game Genre Preference Comparison Graph')\n",
        "plt.xlabel('Genre')\n",
        "plt.ylabel('percentage of JP game preference')\n",
        "plt.show();"
      ],
      "execution_count": 253,
      "outputs": [
        {
          "output_type": "display_data",
          "data": {
            "image/png": "[encoded data removed]",
            "text/plain": [
              "<Figure size 1152x360 with 1 Axes>"
            ]
          },
          "metadata": {
            "tags": [],
            "needs_background": "light"
          }
        }
      ]
    },
    {
      "cell_type": "code",
      "metadata": {
        "colab": {
          "base_uri": "https://localhost:8080/",
          "height": 350
        },
        "id": "UOLGtWLSff1q",
        "outputId": "cbab1996-7ac1-4bc9-eb93-140a4f5340b1"
      },
      "source": [
        "# 그 외(Others)지역에서 선호하는 게임을 분석 및 시각화\n",
        "\n",
        "df_others = df_genre.copy()\n",
        "df_others_percentage = calculate_percentage(df_others, 'Other_Sales')\n",
        "\n",
        "# 시각화\n",
        "x_other = np.array(df_others_percentage['Genre'])\n",
        "y_other = np.array(df_others_percentage['Other_Sales'])\n",
        "plt.rcParams[\"figure.figsize\"] = (16,5)\n",
        "plt.bar(x_other, y_other)\n",
        "plt.title('Other Countries Game Preference Comparision Graph')\n",
        "plt.xlabel('Genre')\n",
        "plt.ylabel('Other countries game preference percentage')\n",
        "plt.show();"
      ],
      "execution_count": 254,
      "outputs": [
        {
          "output_type": "display_data",
          "data": {
            "image/png": "[encoded data removed]",
            "text/plain": [
              "<Figure size 1152x360 with 1 Axes>"
            ]
          },
          "metadata": {
            "tags": [],
            "needs_background": "light"
          }
        }
      ]
    },
    {
      "cell_type": "code",
      "metadata": {
        "colab": {
          "base_uri": "https://localhost:8080/",
          "height": 350
        },
        "id": "dsukC7CS0z_F",
        "outputId": "a0082626-b8e8-4fe5-87f3-486bd3cb9160"
      },
      "source": [
        "# 종합 지역에서 선호하는 게임을 분석 및 시각화\n",
        "df_total_sale = df_genre.copy()\n",
        "\n",
        "# 반복문을 이용하여 Sales 열의 데이터 값의 총합인 열 Total_Sales 열 생성\n",
        "def create_total(df):\n",
        "  df['Total_Sales'] = 0\n",
        "  for i in range(len(df)):\n",
        "    for j in range(5, 9):\n",
        "      df.iloc[i, 9] += df.iloc[i, j]\n",
        "  return df\n",
        "\n",
        "df_total_sale = create_total(df_total_sale)\n",
        "\n",
        "df_total_percentage = calculate_percentage(df_total_sale, 'Total_Sales')\n",
        "\n",
        "# 시각화\n",
        "x_total = np.array(df_total_sale['Genre'])\n",
        "y_total = np.array(df_total_sale['Total_Sales'])\n",
        "plt.rcParams[\"figure.figsize\"] = (16,5)\n",
        "plt.bar(x_total, y_total)\n",
        "plt.title('All Countries Game Preference Comparision Graph')\n",
        "plt.xlabel('Genre')\n",
        "plt.ylabel('All countries game preference percentage')\n",
        "plt.show();"
      ],
      "execution_count": 255,
      "outputs": [
        {
          "output_type": "display_data",
          "data": {
            "image/png": "[encoded data removed]",
            "text/plain": [
              "<Figure size 1152x360 with 1 Axes>"
            ]
          },
          "metadata": {
            "tags": [],
            "needs_background": "light"
          }
        }
      ]
    },
    {
      "cell_type": "code",
      "metadata": {
        "id": "bNXYNzkmgT2_"
      },
      "source": [
        "# 연도별 게임의 트렌드가 있을까 - 장르 기준\n",
        "\n",
        "df_trand = df_sorted.copy()\n",
        "remove_name(df_trand, 'Name')\n",
        "remove_name(df_trand, 'Publisher')\n",
        "remove_name(df_trand, 'Platform')"
      ],
      "execution_count": 256,
      "outputs": []
    },
    {
      "cell_type": "code",
      "metadata": {
        "id": "rbucOQOgZAMA"
      },
      "source": [
        "# 반복문을 이용하여 Sales 열의 데이터 값의 총합인 열 Total_Sales 열 생성\n",
        "df_trand = create_total(df_trand)\n",
        "df_trand = df_trand.drop(columns=['NA_Sales', 'EU_Sales', 'JP_Sales', 'Other_Sales'])"
      ],
      "execution_count": 257,
      "outputs": []
    },
    {
      "cell_type": "code",
      "metadata": {
        "colab": {
          "base_uri": "https://localhost:8080/",
          "height": 417
        },
        "id": "vPt9NOG-gkSn",
        "outputId": "7dae9840-10f7-49ac-e26f-ff088bdc2f77"
      },
      "source": [
        "df_trand.sort_values(by=['Year'], axis=0, inplace=True)\n",
        "df_trand = df_trand[['Year', 'Genre', 'Total_Sales']].sort_values(by=['Year'], axis=0).reset_index().drop(columns=['index'])\n",
        "\n",
        "def create_yrcat(df, col):\n",
        "  for i in df.index:\n",
        "    val = df.loc[i, col]\n",
        "    if val > 1980 and val < 1990:\n",
        "      val = str(val)\n",
        "      val = '1980 ~ 1989'\n",
        "      df.loc[i, col] = val\n",
        "    elif val >= 1990 and val < 2000:\n",
        "      val = str(val)\n",
        "      val = '1990 ~ 1999'\n",
        "      df.loc[i, col] = val\n",
        "    elif val >= 2000 and val < 2010:\n",
        "      val = str(val)\n",
        "      val = '2000 ~ 2009'\n",
        "      df.loc[i, col] = val\n",
        "    else:\n",
        "      val = str(val)\n",
        "      val = '2010 ~ 2020'\n",
        "      df.loc[i, col] = val\n",
        "  return df\n",
        "\n",
        "df_trand = create_yrcat(df_trand, 'Year')\n",
        "df_trand"
      ],
      "execution_count": 258,
      "outputs": [
        {
          "output_type": "execute_result",
          "data": {
            "text/html": [
              "<div>\n",
              "<style scoped>\n",
              "    .dataframe tbody tr th:only-of-type {\n",
              "        vertical-align: middle;\n",
              "    }\n",
              "\n",
              "    .dataframe tbody tr th {\n",
              "        vertical-align: top;\n",
              "    }\n",
              "\n",
              "    .dataframe thead th {\n",
              "        text-align: right;\n",
              "    }\n",
              "</style>\n",
              "<table border=\"1\" class=\"dataframe\">\n",
              "  <thead>\n",
              "    <tr style=\"text-align: right;\">\n",
              "      <th></th>\n",
              "      <th>Year</th>\n",
              "      <th>Genre</th>\n",
              "      <th>Total_Sales</th>\n",
              "    </tr>\n",
              "  </thead>\n",
              "  <tbody>\n",
              "    <tr>\n",
              "      <th>0</th>\n",
              "      <td>1980 ~ 1989</td>\n",
              "      <td>Platform</td>\n",
              "      <td>1.13</td>\n",
              "    </tr>\n",
              "    <tr>\n",
              "      <th>1</th>\n",
              "      <td>1980 ~ 1989</td>\n",
              "      <td>Platform</td>\n",
              "      <td>2.28</td>\n",
              "    </tr>\n",
              "    <tr>\n",
              "      <th>2</th>\n",
              "      <td>1980 ~ 1989</td>\n",
              "      <td>Platform</td>\n",
              "      <td>1.10</td>\n",
              "    </tr>\n",
              "    <tr>\n",
              "      <th>3</th>\n",
              "      <td>1980 ~ 1989</td>\n",
              "      <td>Misc</td>\n",
              "      <td>2.14</td>\n",
              "    </tr>\n",
              "    <tr>\n",
              "      <th>4</th>\n",
              "      <td>1980 ~ 1989</td>\n",
              "      <td>Sports</td>\n",
              "      <td>3.20</td>\n",
              "    </tr>\n",
              "    <tr>\n",
              "      <th>...</th>\n",
              "      <td>...</td>\n",
              "      <td>...</td>\n",
              "      <td>...</td>\n",
              "    </tr>\n",
              "    <tr>\n",
              "      <th>12026</th>\n",
              "      <td>2010 ~ 2020</td>\n",
              "      <td>Role-Playing</td>\n",
              "      <td>0.50</td>\n",
              "    </tr>\n",
              "    <tr>\n",
              "      <th>12027</th>\n",
              "      <td>2010 ~ 2020</td>\n",
              "      <td>Adventure</td>\n",
              "      <td>0.12</td>\n",
              "    </tr>\n",
              "    <tr>\n",
              "      <th>12028</th>\n",
              "      <td>2010 ~ 2020</td>\n",
              "      <td>Action</td>\n",
              "      <td>0.01</td>\n",
              "    </tr>\n",
              "    <tr>\n",
              "      <th>12029</th>\n",
              "      <td>2010 ~ 2020</td>\n",
              "      <td>Role-Playing</td>\n",
              "      <td>0.04</td>\n",
              "    </tr>\n",
              "    <tr>\n",
              "      <th>12030</th>\n",
              "      <td>2010 ~ 2020</td>\n",
              "      <td>Simulation</td>\n",
              "      <td>0.29</td>\n",
              "    </tr>\n",
              "  </tbody>\n",
              "</table>\n",
              "<p>12031 rows × 3 columns</p>\n",
              "</div>"
            ],
            "text/plain": [
              "              Year         Genre  Total_Sales\n",
              "0      1980 ~ 1989      Platform         1.13\n",
              "1      1980 ~ 1989      Platform         2.28\n",
              "2      1980 ~ 1989      Platform         1.10\n",
              "3      1980 ~ 1989          Misc         2.14\n",
              "4      1980 ~ 1989        Sports         3.20\n",
              "...            ...           ...          ...\n",
              "12026  2010 ~ 2020  Role-Playing         0.50\n",
              "12027  2010 ~ 2020     Adventure         0.12\n",
              "12028  2010 ~ 2020        Action         0.01\n",
              "12029  2010 ~ 2020  Role-Playing         0.04\n",
              "12030  2010 ~ 2020    Simulation         0.29\n",
              "\n",
              "[12031 rows x 3 columns]"
            ]
          },
          "metadata": {
            "tags": []
          },
          "execution_count": 258
        }
      ]
    },
    {
      "cell_type": "code",
      "metadata": {
        "colab": {
          "base_uri": "https://localhost:8080/",
          "height": 350
        },
        "id": "9Dw42tMjOws1",
        "outputId": "fc61fd6a-4728-4545-dfc9-f1d479b2d47a"
      },
      "source": [
        "# 1980 ~ 1989년도의 게임 장르 트렌드 분석\n",
        "\n",
        "df_1980st = df_trand[df_trand['Year'] == '1980 ~ 1989'].reset_index().drop(columns=['index'])\n",
        "df_1980st = calculate_percentage(df_1980st[['Genre', 'Total_Sales']].groupby(['Genre']).agg({'Total_Sales':sum}), 'Total_Sales')\n",
        "\n",
        "# 시각화\n",
        "x_1980 = np.array(df_1980st.index)\n",
        "y_1980 = np.array(df_1980st['Total_Sales'])\n",
        "plt.rcParams[\"figure.figsize\"] = (16,5)\n",
        "plt.bar(x_1980, y_1980)\n",
        "plt.xlabel('Genre')\n",
        "plt.ylabel('Sales percentage of each game trand')\n",
        "plt.title('The 1980 Century Game Trand')\n",
        "plt.show();"
      ],
      "execution_count": 259,
      "outputs": [
        {
          "output_type": "display_data",
          "data": {
            "image/png": "[encoded data removed]",
            "text/plain": [
              "<Figure size 1152x360 with 1 Axes>"
            ]
          },
          "metadata": {
            "tags": [],
            "needs_background": "light"
          }
        }
      ]
    },
    {
      "cell_type": "code",
      "metadata": {
        "colab": {
          "base_uri": "https://localhost:8080/",
          "height": 350
        },
        "id": "eeYRB-WRPg_H",
        "outputId": "402304d1-7bb4-4e4c-db9a-6993a0651c71"
      },
      "source": [
        "# 1990 ~ 1999년도의 게임 장르 트렌드 분석\n",
        "\n",
        "df_1990st = df_trand[df_trand['Year'] == '1990 ~ 1999'].reset_index().drop(columns=['index'])\n",
        "df_1990st = calculate_percentage(df_1990st[['Genre', 'Total_Sales']].groupby(['Genre']).agg({'Total_Sales':sum}), 'Total_Sales')\n",
        "\n",
        "# 시각화\n",
        "x_1990 = np.array(df_1990st.index)\n",
        "y_1990 = np.array(df_1990st['Total_Sales'])\n",
        "plt.rcParams[\"figure.figsize\"] = (16,5)\n",
        "plt.bar(x_1990, y_1990)\n",
        "plt.xlabel('Genre')\n",
        "plt.ylabel('Sales percentage of each game trand')\n",
        "plt.title('The 1990 Century Game Trand')\n",
        "plt.show();"
      ],
      "execution_count": 260,
      "outputs": [
        {
          "output_type": "display_data",
          "data": {
            "image/png": "[encoded data removed]",
            "text/plain": [
              "<Figure size 1152x360 with 1 Axes>"
            ]
          },
          "metadata": {
            "tags": [],
            "needs_background": "light"
          }
        }
      ]
    },
    {
      "cell_type": "code",
      "metadata": {
        "colab": {
          "base_uri": "https://localhost:8080/",
          "height": 350
        },
        "id": "oNVMytkJPiDj",
        "outputId": "27ffb78d-eb72-4f95-f021-b35dd1d999c0"
      },
      "source": [
        "# 2000 ~ 2009년도의 게임 장르 트렌드 분석\n",
        "\n",
        "df_2000st = df_trand[df_trand['Year'] == '2000 ~ 2009'].reset_index().drop(columns=['index'])\n",
        "df_2000st = calculate_percentage(df_2000st[['Genre', 'Total_Sales']].groupby(['Genre']).agg({'Total_Sales':sum}), 'Total_Sales')\n",
        "\n",
        "# 시각화\n",
        "x_2000 = np.array(df_2000st.index)\n",
        "y_2000 = np.array(df_2000st['Total_Sales'])\n",
        "plt.rcParams[\"figure.figsize\"] = (16,5)\n",
        "plt.bar(x_2000, y_2000)\n",
        "plt.xlabel('Genre')\n",
        "plt.ylabel('Sales percentage of each game trand')\n",
        "plt.title('The 2000 Century Game Trand')\n",
        "plt.show();"
      ],
      "execution_count": 261,
      "outputs": [
        {
          "output_type": "display_data",
          "data": {
            "image/png": "[encoded data removed]",
            "text/plain": [
              "<Figure size 1152x360 with 1 Axes>"
            ]
          },
          "metadata": {
            "tags": [],
            "needs_background": "light"
          }
        }
      ]
    },
    {
      "cell_type": "code",
      "metadata": {
        "colab": {
          "base_uri": "https://localhost:8080/",
          "height": 350
        },
        "id": "QSq2us3gPiYW",
        "outputId": "959535f4-69a8-4e87-cddb-f7fb542cf169"
      },
      "source": [
        "# 2010 ~ 2020년도의 게임 장르 트렌드 분석\n",
        "\n",
        "df_2010st = df_trand[df_trand['Year'] == '2010 ~ 2020'].reset_index().drop(columns=['index'])\n",
        "df_2010st = calculate_percentage(df_2010st[['Genre', 'Total_Sales']].groupby(['Genre']).agg({'Total_Sales':sum}), 'Total_Sales')\n",
        "\n",
        "# 시각화\n",
        "x_2010 = np.array(df_2010st.index)\n",
        "y_2010 = np.array(df_2010st['Total_Sales'])\n",
        "plt.rcParams[\"figure.figsize\"] = (16,5)\n",
        "plt.bar(x_2010, y_2010)\n",
        "plt.xlabel('Genre')\n",
        "plt.ylabel('Sales percentage of each game trand')\n",
        "plt.title('The 2010 Century Game Trand')\n",
        "plt.show();"
      ],
      "execution_count": 262,
      "outputs": [
        {
          "output_type": "display_data",
          "data": {
            "image/png": "[encoded data removed]",
            "text/plain": [
              "<Figure size 1152x360 with 1 Axes>"
            ]
          },
          "metadata": {
            "tags": [],
            "needs_background": "light"
          }
        }
      ]
    },
    {
      "cell_type": "code",
      "metadata": {
        "id": "klRa1W19PuGe"
      },
      "source": [
        "# 연도별 게임의 트렌드가 있을까 - 사용기기 기준 - 다수 사용수준\n",
        "df_platform = create_total(df_platform)"
      ],
      "execution_count": 263,
      "outputs": []
    },
    {
      "cell_type": "code",
      "metadata": {
        "colab": {
          "base_uri": "https://localhost:8080/",
          "height": 417
        },
        "id": "YGwI-0_WdyOV",
        "outputId": "82eec2ec-0eb6-459e-e6fc-82979b9c9d80"
      },
      "source": [
        "df_platform = df_platform[['Platform', 'Year', 'Total_Sales']].sort_values(by=['Year'], axis=0).reset_index().drop(columns=['index'])\n",
        "df_platform = create_yrcat(df_platform, 'Year')\n",
        "df_platform"
      ],
      "execution_count": 264,
      "outputs": [
        {
          "output_type": "execute_result",
          "data": {
            "text/html": [
              "<div>\n",
              "<style scoped>\n",
              "    .dataframe tbody tr th:only-of-type {\n",
              "        vertical-align: middle;\n",
              "    }\n",
              "\n",
              "    .dataframe tbody tr th {\n",
              "        vertical-align: top;\n",
              "    }\n",
              "\n",
              "    .dataframe thead th {\n",
              "        text-align: right;\n",
              "    }\n",
              "</style>\n",
              "<table border=\"1\" class=\"dataframe\">\n",
              "  <thead>\n",
              "    <tr style=\"text-align: right;\">\n",
              "      <th></th>\n",
              "      <th>Platform</th>\n",
              "      <th>Year</th>\n",
              "      <th>Total_Sales</th>\n",
              "    </tr>\n",
              "  </thead>\n",
              "  <tbody>\n",
              "    <tr>\n",
              "      <th>0</th>\n",
              "      <td>NES</td>\n",
              "      <td>1980 ~ 1989</td>\n",
              "      <td>3.20</td>\n",
              "    </tr>\n",
              "    <tr>\n",
              "      <th>1</th>\n",
              "      <td>NES</td>\n",
              "      <td>1980 ~ 1989</td>\n",
              "      <td>1.11</td>\n",
              "    </tr>\n",
              "    <tr>\n",
              "      <th>2</th>\n",
              "      <td>NES</td>\n",
              "      <td>1980 ~ 1989</td>\n",
              "      <td>2.14</td>\n",
              "    </tr>\n",
              "    <tr>\n",
              "      <th>3</th>\n",
              "      <td>NES</td>\n",
              "      <td>1980 ~ 1989</td>\n",
              "      <td>1.10</td>\n",
              "    </tr>\n",
              "    <tr>\n",
              "      <th>4</th>\n",
              "      <td>NES</td>\n",
              "      <td>1980 ~ 1989</td>\n",
              "      <td>1.13</td>\n",
              "    </tr>\n",
              "    <tr>\n",
              "      <th>...</th>\n",
              "      <td>...</td>\n",
              "      <td>...</td>\n",
              "      <td>...</td>\n",
              "    </tr>\n",
              "    <tr>\n",
              "      <th>16021</th>\n",
              "      <td>PS4</td>\n",
              "      <td>2010 ~ 2020</td>\n",
              "      <td>0.02</td>\n",
              "    </tr>\n",
              "    <tr>\n",
              "      <th>16022</th>\n",
              "      <td>PSV</td>\n",
              "      <td>2010 ~ 2020</td>\n",
              "      <td>0.01</td>\n",
              "    </tr>\n",
              "    <tr>\n",
              "      <th>16023</th>\n",
              "      <td>PS4</td>\n",
              "      <td>2010 ~ 2020</td>\n",
              "      <td>0.03</td>\n",
              "    </tr>\n",
              "    <tr>\n",
              "      <th>16024</th>\n",
              "      <td>PSV</td>\n",
              "      <td>2010 ~ 2020</td>\n",
              "      <td>0.01</td>\n",
              "    </tr>\n",
              "    <tr>\n",
              "      <th>16025</th>\n",
              "      <td>DS</td>\n",
              "      <td>2010 ~ 2020</td>\n",
              "      <td>0.29</td>\n",
              "    </tr>\n",
              "  </tbody>\n",
              "</table>\n",
              "<p>16026 rows × 3 columns</p>\n",
              "</div>"
            ],
            "text/plain": [
              "      Platform         Year  Total_Sales\n",
              "0          NES  1980 ~ 1989         3.20\n",
              "1          NES  1980 ~ 1989         1.11\n",
              "2          NES  1980 ~ 1989         2.14\n",
              "3          NES  1980 ~ 1989         1.10\n",
              "4          NES  1980 ~ 1989         1.13\n",
              "...        ...          ...          ...\n",
              "16021      PS4  2010 ~ 2020         0.02\n",
              "16022      PSV  2010 ~ 2020         0.01\n",
              "16023      PS4  2010 ~ 2020         0.03\n",
              "16024      PSV  2010 ~ 2020         0.01\n",
              "16025       DS  2010 ~ 2020         0.29\n",
              "\n",
              "[16026 rows x 3 columns]"
            ]
          },
          "metadata": {
            "tags": []
          },
          "execution_count": 264
        }
      ]
    },
    {
      "cell_type": "code",
      "metadata": {
        "colab": {
          "base_uri": "https://localhost:8080/",
          "height": 350
        },
        "id": "j3_n_kIBelIn",
        "outputId": "723f58bd-19d6-4540-f13c-28c59ea690b4"
      },
      "source": [
        "# 1980년도 게임 플랫폼 사용량\n",
        "\n",
        "pt_1980st = df_platform[df_platform['Year'] == '1980 ~ 1989'].reset_index().drop(columns=['index'])\n",
        "pt_1980st = calculate_percentage(pt_1980st[['Platform', 'Total_Sales']].groupby(['Platform']).agg({'Total_Sales':sum}), 'Total_Sales')\n",
        "\n",
        "# 시각화\n",
        "x_1980pt = np.array(pt_1980st.index)\n",
        "y_1980pt = np.array(pt_1980st['Total_Sales'])\n",
        "plt.rcParams[\"figure.figsize\"] = (5,5)\n",
        "plt.bar(x_1980pt, y_1980pt)\n",
        "plt.xlabel('Platform')\n",
        "plt.ylabel('Sales percentage of each game platform')\n",
        "plt.title('The 1980 Century Game platform usage')\n",
        "plt.show();"
      ],
      "execution_count": 265,
      "outputs": [
        {
          "output_type": "display_data",
          "data": {
            "image/png": "[encoded data removed]",
            "text/plain": [
              "<Figure size 360x360 with 1 Axes>"
            ]
          },
          "metadata": {
            "tags": [],
            "needs_background": "light"
          }
        }
      ]
    },
    {
      "cell_type": "code",
      "metadata": {
        "colab": {
          "base_uri": "https://localhost:8080/",
          "height": 350
        },
        "id": "p7O4BDTGpRYZ",
        "outputId": "ecba10fa-a3a8-4e22-a103-0e0975caf146"
      },
      "source": [
        "# 1990년도 게임 플랫폼 사용량\n",
        "\n",
        "pt_1990st = df_platform[df_platform['Year'] == '1990 ~ 1999'].reset_index().drop(columns=['index'])\n",
        "pt_1990st = calculate_percentage(pt_1990st[['Platform', 'Total_Sales']].groupby(['Platform']).agg({'Total_Sales':sum}), 'Total_Sales')\n",
        "\n",
        "# 시각화\n",
        "x_1990pt = np.array(pt_1990st.index)\n",
        "y_1990pt = np.array(pt_1990st['Total_Sales'])\n",
        "plt.rcParams[\"figure.figsize\"] = (12,5)\n",
        "plt.bar(x_1990pt, y_1990pt)\n",
        "plt.xlabel('Platform')\n",
        "plt.ylabel('Sales percentage of each game platform')\n",
        "plt.title('The 1990 Century Game platform usage')\n",
        "plt.show();"
      ],
      "execution_count": 266,
      "outputs": [
        {
          "output_type": "display_data",
          "data": {
            "image/png": "[encoded data removed]",
            "text/plain": [
              "<Figure size 864x360 with 1 Axes>"
            ]
          },
          "metadata": {
            "tags": [],
            "needs_background": "light"
          }
        }
      ]
    },
    {
      "cell_type": "code",
      "metadata": {
        "colab": {
          "base_uri": "https://localhost:8080/",
          "height": 350
        },
        "id": "TjPzdCY-poZw",
        "outputId": "46ab46bb-31a1-452f-ea1f-e9b7c3e0e432"
      },
      "source": [
        "# 2000년도 게임 플랫폼 사용량\n",
        "\n",
        "pt_2000st = df_platform[df_platform['Year'] == '2000 ~ 2009'].reset_index().drop(columns=['index'])\n",
        "pt_2000st = calculate_percentage(pt_2000st[['Platform', 'Total_Sales']].groupby(['Platform']).agg({'Total_Sales':sum}), 'Total_Sales')\n",
        "\n",
        "# 시각화\n",
        "x_2000pt = np.array(pt_2000st.index)\n",
        "y_2000pt = np.array(pt_2000st['Total_Sales'])\n",
        "plt.rcParams[\"figure.figsize\"] = (16,5)\n",
        "plt.bar(x_2000pt, y_2000pt)\n",
        "plt.xlabel('Platform')\n",
        "plt.ylabel('Sales percentage of each game platform')\n",
        "plt.title('The 2000 Century Game platform usage')\n",
        "plt.show();"
      ],
      "execution_count": 267,
      "outputs": [
        {
          "output_type": "display_data",
          "data": {
            "image/png": "[encoded data removed]",
            "text/plain": [
              "<Figure size 1152x360 with 1 Axes>"
            ]
          },
          "metadata": {
            "tags": [],
            "needs_background": "light"
          }
        }
      ]
    },
    {
      "cell_type": "code",
      "metadata": {
        "colab": {
          "base_uri": "https://localhost:8080/",
          "height": 350
        },
        "id": "5n023OG-qPIa",
        "outputId": "f00e8e02-05f3-44de-cbaf-13ecf12a7aec"
      },
      "source": [
        "# 2010년도 게임 플랫폼 사용량\n",
        "\n",
        "pt_2010st = df_platform[df_platform['Year'] == '2010 ~ 2020'].reset_index().drop(columns=['index'])\n",
        "pt_2010st = calculate_percentage(pt_2010st[['Platform', 'Total_Sales']].groupby(['Platform']).agg({'Total_Sales':sum}), 'Total_Sales')\n",
        "\n",
        "# 시각화\n",
        "x_2010pt = np.array(pt_2010st.index)\n",
        "y_2010pt = np.array(pt_2010st['Total_Sales'])\n",
        "plt.rcParams[\"figure.figsize\"] = (16,5)\n",
        "plt.bar(x_2010pt, y_2010pt)\n",
        "plt.xlabel('Platform')\n",
        "plt.ylabel('Sales percentage of each game platform')\n",
        "plt.title('The 2010 Century Game platform usage')\n",
        "plt.show();"
      ],
      "execution_count": 290,
      "outputs": [
        {
          "output_type": "display_data",
          "data": {
            "image/png": "[encoded data removed]",
            "text/plain": [
              "<Figure size 1152x360 with 1 Axes>"
            ]
          },
          "metadata": {
            "tags": [],
            "needs_background": "light"
          }
        }
      ]
    },
    {
      "cell_type": "code",
      "metadata": {
        "colab": {
          "base_uri": "https://localhost:8080/",
          "height": 417
        },
        "id": "LkJ8yZMuq3Lw",
        "outputId": "88e2eb6b-04f9-4f50-9db0-6d9ea2fb8111"
      },
      "source": [
        "# 출고량이 높은 게임에 대한 분석 및 시각화 프로세스\n",
        "\n",
        "remove_name(df_best, 'Name')\n",
        "df_best = create_total(df_best)\n",
        "df_best = df_best.drop(columns=['NA_Sales', 'EU_Sales', 'JP_Sales', 'Other_Sales', 'Name'])\n",
        "df_best = create_yrcat(df_best, 'Year')\n",
        "df_best"
      ],
      "execution_count": 293,
      "outputs": [
        {
          "output_type": "execute_result",
          "data": {
            "text/html": [
              "<div>\n",
              "<style scoped>\n",
              "    .dataframe tbody tr th:only-of-type {\n",
              "        vertical-align: middle;\n",
              "    }\n",
              "\n",
              "    .dataframe tbody tr th {\n",
              "        vertical-align: top;\n",
              "    }\n",
              "\n",
              "    .dataframe thead th {\n",
              "        text-align: right;\n",
              "    }\n",
              "</style>\n",
              "<table border=\"1\" class=\"dataframe\">\n",
              "  <thead>\n",
              "    <tr style=\"text-align: right;\">\n",
              "      <th></th>\n",
              "      <th>Platform</th>\n",
              "      <th>Year</th>\n",
              "      <th>Genre</th>\n",
              "      <th>Publisher</th>\n",
              "      <th>Total_Sales</th>\n",
              "    </tr>\n",
              "  </thead>\n",
              "  <tbody>\n",
              "    <tr>\n",
              "      <th>0</th>\n",
              "      <td>NES</td>\n",
              "      <td>1980 ~ 1989</td>\n",
              "      <td>Sports</td>\n",
              "      <td>Nintendo</td>\n",
              "      <td>3.20</td>\n",
              "    </tr>\n",
              "    <tr>\n",
              "      <th>1</th>\n",
              "      <td>NES</td>\n",
              "      <td>1980 ~ 1989</td>\n",
              "      <td>Platform</td>\n",
              "      <td>Nintendo</td>\n",
              "      <td>1.11</td>\n",
              "    </tr>\n",
              "    <tr>\n",
              "      <th>2</th>\n",
              "      <td>NES</td>\n",
              "      <td>1980 ~ 1989</td>\n",
              "      <td>Misc</td>\n",
              "      <td>Nintendo</td>\n",
              "      <td>2.14</td>\n",
              "    </tr>\n",
              "    <tr>\n",
              "      <th>3</th>\n",
              "      <td>NES</td>\n",
              "      <td>1980 ~ 1989</td>\n",
              "      <td>Platform</td>\n",
              "      <td>Nintendo</td>\n",
              "      <td>1.10</td>\n",
              "    </tr>\n",
              "    <tr>\n",
              "      <th>4</th>\n",
              "      <td>NES</td>\n",
              "      <td>1980 ~ 1989</td>\n",
              "      <td>Platform</td>\n",
              "      <td>Nintendo</td>\n",
              "      <td>1.13</td>\n",
              "    </tr>\n",
              "    <tr>\n",
              "      <th>...</th>\n",
              "      <td>...</td>\n",
              "      <td>...</td>\n",
              "      <td>...</td>\n",
              "      <td>...</td>\n",
              "      <td>...</td>\n",
              "    </tr>\n",
              "    <tr>\n",
              "      <th>16021</th>\n",
              "      <td>PS4</td>\n",
              "      <td>2010 ~ 2020</td>\n",
              "      <td>Fighting</td>\n",
              "      <td>Deep Silver</td>\n",
              "      <td>0.09</td>\n",
              "    </tr>\n",
              "    <tr>\n",
              "      <th>16022</th>\n",
              "      <td>PS4</td>\n",
              "      <td>2010 ~ 2020</td>\n",
              "      <td>Role-Playing</td>\n",
              "      <td>Sega</td>\n",
              "      <td>0.03</td>\n",
              "    </tr>\n",
              "    <tr>\n",
              "      <th>16023</th>\n",
              "      <td>PSV</td>\n",
              "      <td>2010 ~ 2020</td>\n",
              "      <td>Action</td>\n",
              "      <td>Idea Factory</td>\n",
              "      <td>0.01</td>\n",
              "    </tr>\n",
              "    <tr>\n",
              "      <th>16024</th>\n",
              "      <td>PSV</td>\n",
              "      <td>2010 ~ 2020</td>\n",
              "      <td>Role-Playing</td>\n",
              "      <td>Sega</td>\n",
              "      <td>0.01</td>\n",
              "    </tr>\n",
              "    <tr>\n",
              "      <th>16025</th>\n",
              "      <td>DS</td>\n",
              "      <td>2010 ~ 2020</td>\n",
              "      <td>Simulation</td>\n",
              "      <td>Ubisoft</td>\n",
              "      <td>0.29</td>\n",
              "    </tr>\n",
              "  </tbody>\n",
              "</table>\n",
              "<p>16026 rows × 5 columns</p>\n",
              "</div>"
            ],
            "text/plain": [
              "      Platform         Year         Genre     Publisher  Total_Sales\n",
              "0          NES  1980 ~ 1989        Sports      Nintendo         3.20\n",
              "1          NES  1980 ~ 1989      Platform      Nintendo         1.11\n",
              "2          NES  1980 ~ 1989          Misc      Nintendo         2.14\n",
              "3          NES  1980 ~ 1989      Platform      Nintendo         1.10\n",
              "4          NES  1980 ~ 1989      Platform      Nintendo         1.13\n",
              "...        ...          ...           ...           ...          ...\n",
              "16021      PS4  2010 ~ 2020      Fighting   Deep Silver         0.09\n",
              "16022      PS4  2010 ~ 2020  Role-Playing          Sega         0.03\n",
              "16023      PSV  2010 ~ 2020        Action  Idea Factory         0.01\n",
              "16024      PSV  2010 ~ 2020  Role-Playing          Sega         0.01\n",
              "16025       DS  2010 ~ 2020    Simulation       Ubisoft         0.29\n",
              "\n",
              "[16026 rows x 5 columns]"
            ]
          },
          "metadata": {
            "tags": []
          },
          "execution_count": 293
        }
      ]
    },
    {
      "cell_type": "code",
      "metadata": {
        "colab": {
          "base_uri": "https://localhost:8080/",
          "height": 357
        },
        "id": "Auyyc0H8yGBj",
        "outputId": "64ab3a33-519f-477d-e5ed-a00f96614e1e"
      },
      "source": [
        "# 출고량이 높은 게임에 대해 10위까지 표로 정리\n",
        "\n",
        "# 1980~1989년도 출고량이 높은 게임 \n",
        "df_best_1980 = df_best[df_best['Year'] == '1980 ~ 1989'].reset_index().drop(columns=['index'])\n",
        "df_best_1980 = df_best_1980.drop(columns=['Year'])\n",
        "df_best_1980 = df_best_1980.groupby(['Platform', 'Genre', 'Publisher']).agg({'Total_Sales':sum}).reset_index()\n",
        "df_best_1980 = df_best_1980.sort_values(by=['Total_Sales'], ascending=False, axis= 0).reset_index().drop(columns=['index']).head(10)\n",
        "df_best_1980"
      ],
      "execution_count": 308,
      "outputs": [
        {
          "output_type": "execute_result",
          "data": {
            "text/html": [
              "<div>\n",
              "<style scoped>\n",
              "    .dataframe tbody tr th:only-of-type {\n",
              "        vertical-align: middle;\n",
              "    }\n",
              "\n",
              "    .dataframe tbody tr th {\n",
              "        vertical-align: top;\n",
              "    }\n",
              "\n",
              "    .dataframe thead th {\n",
              "        text-align: right;\n",
              "    }\n",
              "</style>\n",
              "<table border=\"1\" class=\"dataframe\">\n",
              "  <thead>\n",
              "    <tr style=\"text-align: right;\">\n",
              "      <th></th>\n",
              "      <th>Platform</th>\n",
              "      <th>Genre</th>\n",
              "      <th>Publisher</th>\n",
              "      <th>Total_Sales</th>\n",
              "    </tr>\n",
              "  </thead>\n",
              "  <tbody>\n",
              "    <tr>\n",
              "      <th>0</th>\n",
              "      <td>NES</td>\n",
              "      <td>Platform</td>\n",
              "      <td>Nintendo</td>\n",
              "      <td>269.31</td>\n",
              "    </tr>\n",
              "    <tr>\n",
              "      <th>1</th>\n",
              "      <td>NES</td>\n",
              "      <td>Puzzle</td>\n",
              "      <td>HAL Laboratory</td>\n",
              "      <td>60.00</td>\n",
              "    </tr>\n",
              "    <tr>\n",
              "      <th>2</th>\n",
              "      <td>GB</td>\n",
              "      <td>Puzzle</td>\n",
              "      <td>Nintendo</td>\n",
              "      <td>37.54</td>\n",
              "    </tr>\n",
              "    <tr>\n",
              "      <th>3</th>\n",
              "      <td>NES</td>\n",
              "      <td>Shooter</td>\n",
              "      <td>Nintendo</td>\n",
              "      <td>29.58</td>\n",
              "    </tr>\n",
              "    <tr>\n",
              "      <th>4</th>\n",
              "      <td>GB</td>\n",
              "      <td>Platform</td>\n",
              "      <td>Nintendo</td>\n",
              "      <td>18.14</td>\n",
              "    </tr>\n",
              "    <tr>\n",
              "      <th>5</th>\n",
              "      <td>NES</td>\n",
              "      <td>Sports</td>\n",
              "      <td>Nintendo</td>\n",
              "      <td>15.90</td>\n",
              "    </tr>\n",
              "    <tr>\n",
              "      <th>6</th>\n",
              "      <td>NES</td>\n",
              "      <td>Action</td>\n",
              "      <td>Nintendo</td>\n",
              "      <td>15.15</td>\n",
              "    </tr>\n",
              "    <tr>\n",
              "      <th>7</th>\n",
              "      <td>NES</td>\n",
              "      <td>Racing</td>\n",
              "      <td>Nintendo</td>\n",
              "      <td>9.78</td>\n",
              "    </tr>\n",
              "    <tr>\n",
              "      <th>8</th>\n",
              "      <td>NES</td>\n",
              "      <td>Sports</td>\n",
              "      <td>Namco Bandai Games</td>\n",
              "      <td>7.88</td>\n",
              "    </tr>\n",
              "    <tr>\n",
              "      <th>9</th>\n",
              "      <td>NES</td>\n",
              "      <td>Puzzle</td>\n",
              "      <td>Nintendo</td>\n",
              "      <td>7.72</td>\n",
              "    </tr>\n",
              "  </tbody>\n",
              "</table>\n",
              "</div>"
            ],
            "text/plain": [
              "  Platform     Genre           Publisher  Total_Sales\n",
              "0      NES  Platform            Nintendo       269.31\n",
              "1      NES    Puzzle      HAL Laboratory        60.00\n",
              "2       GB    Puzzle            Nintendo        37.54\n",
              "3      NES   Shooter            Nintendo        29.58\n",
              "4       GB  Platform            Nintendo        18.14\n",
              "5      NES    Sports            Nintendo        15.90\n",
              "6      NES    Action            Nintendo        15.15\n",
              "7      NES    Racing            Nintendo         9.78\n",
              "8      NES    Sports  Namco Bandai Games         7.88\n",
              "9      NES    Puzzle            Nintendo         7.72"
            ]
          },
          "metadata": {
            "tags": []
          },
          "execution_count": 308
        }
      ]
    },
    {
      "cell_type": "code",
      "metadata": {
        "colab": {
          "base_uri": "https://localhost:8080/",
          "height": 511
        },
        "id": "0ReMpXE8Ma-u",
        "outputId": "2deb22a8-01ad-4a3b-b6f3-9018b5699114"
      },
      "source": [
        "# 1990~1999년도 출고량이 높은 게임 \n",
        "df_best_1990 = df_best[df_best['Year'] == '1990 ~ 1999'].reset_index().drop(columns=['index'])\n",
        "df_best_1990 = df_best_1990.drop(columns=['Year'])\n",
        "df_best_1990 = df_best_1990.groupby(['Platform', 'Genre', 'Publisher']).agg({'Total_Sales':sum}).reset_index()\n",
        "df_best_1990 = df_best_1990.sort_values(by=['Total_Sales'], ascending=False, axis= 0).reset_index().drop(columns=['index']).head(15)\n",
        "df_best_1990"
      ],
      "execution_count": 364,
      "outputs": [
        {
          "output_type": "execute_result",
          "data": {
            "text/html": [
              "<div>\n",
              "<style scoped>\n",
              "    .dataframe tbody tr th:only-of-type {\n",
              "        vertical-align: middle;\n",
              "    }\n",
              "\n",
              "    .dataframe tbody tr th {\n",
              "        vertical-align: top;\n",
              "    }\n",
              "\n",
              "    .dataframe thead th {\n",
              "        text-align: right;\n",
              "    }\n",
              "</style>\n",
              "<table border=\"1\" class=\"dataframe\">\n",
              "  <thead>\n",
              "    <tr style=\"text-align: right;\">\n",
              "      <th></th>\n",
              "      <th>Platform</th>\n",
              "      <th>Genre</th>\n",
              "      <th>Publisher</th>\n",
              "      <th>Total_Sales</th>\n",
              "    </tr>\n",
              "  </thead>\n",
              "  <tbody>\n",
              "    <tr>\n",
              "      <th>0</th>\n",
              "      <td>N64</td>\n",
              "      <td>Action</td>\n",
              "      <td>Nintendo</td>\n",
              "      <td>4108.33</td>\n",
              "    </tr>\n",
              "    <tr>\n",
              "      <th>1</th>\n",
              "      <td>PS</td>\n",
              "      <td>Racing</td>\n",
              "      <td>Sony Computer Entertainment</td>\n",
              "      <td>2604.23</td>\n",
              "    </tr>\n",
              "    <tr>\n",
              "      <th>2</th>\n",
              "      <td>PS</td>\n",
              "      <td>Simulation</td>\n",
              "      <td>Taito</td>\n",
              "      <td>1020.48</td>\n",
              "    </tr>\n",
              "    <tr>\n",
              "      <th>3</th>\n",
              "      <td>PS</td>\n",
              "      <td>Shooter</td>\n",
              "      <td>Take-Two Interactive</td>\n",
              "      <td>770.61</td>\n",
              "    </tr>\n",
              "    <tr>\n",
              "      <th>4</th>\n",
              "      <td>PS</td>\n",
              "      <td>Action</td>\n",
              "      <td>Virgin Interactive</td>\n",
              "      <td>485.30</td>\n",
              "    </tr>\n",
              "    <tr>\n",
              "      <th>5</th>\n",
              "      <td>SAT</td>\n",
              "      <td>Fighting</td>\n",
              "      <td>Sega</td>\n",
              "      <td>344.82</td>\n",
              "    </tr>\n",
              "    <tr>\n",
              "      <th>6</th>\n",
              "      <td>PS</td>\n",
              "      <td>Platform</td>\n",
              "      <td>BMG Interactive Entertainment</td>\n",
              "      <td>320.53</td>\n",
              "    </tr>\n",
              "    <tr>\n",
              "      <th>7</th>\n",
              "      <td>GEN</td>\n",
              "      <td>Racing</td>\n",
              "      <td>Sega</td>\n",
              "      <td>260.00</td>\n",
              "    </tr>\n",
              "    <tr>\n",
              "      <th>8</th>\n",
              "      <td>PS</td>\n",
              "      <td>Simulation</td>\n",
              "      <td>Psygnosis</td>\n",
              "      <td>240.50</td>\n",
              "    </tr>\n",
              "    <tr>\n",
              "      <th>9</th>\n",
              "      <td>PS</td>\n",
              "      <td>Platform</td>\n",
              "      <td>Konami Digital Entertainment</td>\n",
              "      <td>211.06</td>\n",
              "    </tr>\n",
              "    <tr>\n",
              "      <th>10</th>\n",
              "      <td>SNES</td>\n",
              "      <td>Simulation</td>\n",
              "      <td>Imagineer</td>\n",
              "      <td>160.00</td>\n",
              "    </tr>\n",
              "    <tr>\n",
              "      <th>11</th>\n",
              "      <td>PS</td>\n",
              "      <td>Fighting</td>\n",
              "      <td>Sony Computer Entertainment</td>\n",
              "      <td>103.28</td>\n",
              "    </tr>\n",
              "    <tr>\n",
              "      <th>12</th>\n",
              "      <td>PS</td>\n",
              "      <td>Action</td>\n",
              "      <td>American Softworks</td>\n",
              "      <td>90.15</td>\n",
              "    </tr>\n",
              "    <tr>\n",
              "      <th>13</th>\n",
              "      <td>PS</td>\n",
              "      <td>Sports</td>\n",
              "      <td>Konami Digital Entertainment</td>\n",
              "      <td>86.86</td>\n",
              "    </tr>\n",
              "    <tr>\n",
              "      <th>14</th>\n",
              "      <td>SNES</td>\n",
              "      <td>Misc</td>\n",
              "      <td>Epoch</td>\n",
              "      <td>80.00</td>\n",
              "    </tr>\n",
              "  </tbody>\n",
              "</table>\n",
              "</div>"
            ],
            "text/plain": [
              "   Platform       Genre                      Publisher  Total_Sales\n",
              "0       N64      Action                       Nintendo      4108.33\n",
              "1        PS      Racing    Sony Computer Entertainment      2604.23\n",
              "2        PS  Simulation                          Taito      1020.48\n",
              "3        PS     Shooter           Take-Two Interactive       770.61\n",
              "4        PS      Action             Virgin Interactive       485.30\n",
              "5       SAT    Fighting                           Sega       344.82\n",
              "6        PS    Platform  BMG Interactive Entertainment       320.53\n",
              "7       GEN      Racing                           Sega       260.00\n",
              "8        PS  Simulation                      Psygnosis       240.50\n",
              "9        PS    Platform   Konami Digital Entertainment       211.06\n",
              "10     SNES  Simulation                      Imagineer       160.00\n",
              "11       PS    Fighting    Sony Computer Entertainment       103.28\n",
              "12       PS      Action             American Softworks        90.15\n",
              "13       PS      Sports   Konami Digital Entertainment        86.86\n",
              "14     SNES        Misc                          Epoch        80.00"
            ]
          },
          "metadata": {
            "tags": []
          },
          "execution_count": 364
        }
      ]
    },
    {
      "cell_type": "code",
      "metadata": {
        "colab": {
          "base_uri": "https://localhost:8080/",
          "height": 973
        },
        "id": "C9re2gaeNTGP",
        "outputId": "0504faab-8a4f-4df9-ecd0-d1d028ea4e9b"
      },
      "source": [
        "# 2000~2009년도 출고량이 높은 게임 \n",
        "df_best_2000 = df_best[df_best['Year'] == '2000 ~ 2009'].reset_index().drop(columns=['index'])\n",
        "df_best_2000 = df_best_2000.drop(columns=['Year'])\n",
        "df_best_2000 = df_best_2000.groupby(['Platform', 'Genre', 'Publisher']).agg({'Total_Sales':sum}).reset_index()\n",
        "df_best_2000 = df_best_2000.sort_values(by=['Total_Sales'], ascending=False, axis= 0).reset_index().drop(columns=['index']).head(30)\n",
        "df_best_2000"
      ],
      "execution_count": 345,
      "outputs": [
        {
          "output_type": "execute_result",
          "data": {
            "text/html": [
              "<div>\n",
              "<style scoped>\n",
              "    .dataframe tbody tr th:only-of-type {\n",
              "        vertical-align: middle;\n",
              "    }\n",
              "\n",
              "    .dataframe tbody tr th {\n",
              "        vertical-align: top;\n",
              "    }\n",
              "\n",
              "    .dataframe thead th {\n",
              "        text-align: right;\n",
              "    }\n",
              "</style>\n",
              "<table border=\"1\" class=\"dataframe\">\n",
              "  <thead>\n",
              "    <tr style=\"text-align: right;\">\n",
              "      <th></th>\n",
              "      <th>Platform</th>\n",
              "      <th>Genre</th>\n",
              "      <th>Publisher</th>\n",
              "      <th>Total_Sales</th>\n",
              "    </tr>\n",
              "  </thead>\n",
              "  <tbody>\n",
              "    <tr>\n",
              "      <th>0</th>\n",
              "      <td>GBA</td>\n",
              "      <td>Platform</td>\n",
              "      <td>Nintendo</td>\n",
              "      <td>2961.87</td>\n",
              "    </tr>\n",
              "    <tr>\n",
              "      <th>1</th>\n",
              "      <td>PS</td>\n",
              "      <td>Role-Playing</td>\n",
              "      <td>SquareSoft</td>\n",
              "      <td>2782.53</td>\n",
              "    </tr>\n",
              "    <tr>\n",
              "      <th>2</th>\n",
              "      <td>X360</td>\n",
              "      <td>Misc</td>\n",
              "      <td>Activision</td>\n",
              "      <td>2023.39</td>\n",
              "    </tr>\n",
              "    <tr>\n",
              "      <th>3</th>\n",
              "      <td>DS</td>\n",
              "      <td>Simulation</td>\n",
              "      <td>505 Games</td>\n",
              "      <td>1621.35</td>\n",
              "    </tr>\n",
              "    <tr>\n",
              "      <th>4</th>\n",
              "      <td>PS</td>\n",
              "      <td>Fighting</td>\n",
              "      <td>THQ</td>\n",
              "      <td>1355.43</td>\n",
              "    </tr>\n",
              "    <tr>\n",
              "      <th>5</th>\n",
              "      <td>GBA</td>\n",
              "      <td>Action</td>\n",
              "      <td>Electronic Arts</td>\n",
              "      <td>1215.23</td>\n",
              "    </tr>\n",
              "    <tr>\n",
              "      <th>6</th>\n",
              "      <td>X360</td>\n",
              "      <td>Simulation</td>\n",
              "      <td>Microsoft Game Studios</td>\n",
              "      <td>961.14</td>\n",
              "    </tr>\n",
              "    <tr>\n",
              "      <th>7</th>\n",
              "      <td>Wii</td>\n",
              "      <td>Misc</td>\n",
              "      <td>Electronic Arts</td>\n",
              "      <td>765.46</td>\n",
              "    </tr>\n",
              "    <tr>\n",
              "      <th>8</th>\n",
              "      <td>PS2</td>\n",
              "      <td>Sports</td>\n",
              "      <td>Electronic Arts</td>\n",
              "      <td>751.07</td>\n",
              "    </tr>\n",
              "    <tr>\n",
              "      <th>9</th>\n",
              "      <td>PS2</td>\n",
              "      <td>Misc</td>\n",
              "      <td>Midway Games</td>\n",
              "      <td>721.99</td>\n",
              "    </tr>\n",
              "    <tr>\n",
              "      <th>10</th>\n",
              "      <td>PS3</td>\n",
              "      <td>Misc</td>\n",
              "      <td>Sega</td>\n",
              "      <td>621.65</td>\n",
              "    </tr>\n",
              "    <tr>\n",
              "      <th>11</th>\n",
              "      <td>N64</td>\n",
              "      <td>Sports</td>\n",
              "      <td>Electronic Arts</td>\n",
              "      <td>600.53</td>\n",
              "    </tr>\n",
              "    <tr>\n",
              "      <th>12</th>\n",
              "      <td>DS</td>\n",
              "      <td>Misc</td>\n",
              "      <td>505 Games</td>\n",
              "      <td>541.41</td>\n",
              "    </tr>\n",
              "    <tr>\n",
              "      <th>13</th>\n",
              "      <td>PS3</td>\n",
              "      <td>Action</td>\n",
              "      <td>Activision</td>\n",
              "      <td>506.96</td>\n",
              "    </tr>\n",
              "    <tr>\n",
              "      <th>14</th>\n",
              "      <td>PS3</td>\n",
              "      <td>Simulation</td>\n",
              "      <td>Sony Computer Entertainment</td>\n",
              "      <td>491.56</td>\n",
              "    </tr>\n",
              "    <tr>\n",
              "      <th>15</th>\n",
              "      <td>PS</td>\n",
              "      <td>Racing</td>\n",
              "      <td>Empire Interactive</td>\n",
              "      <td>480.39</td>\n",
              "    </tr>\n",
              "    <tr>\n",
              "      <th>16</th>\n",
              "      <td>DS</td>\n",
              "      <td>Action</td>\n",
              "      <td>THQ</td>\n",
              "      <td>427.18</td>\n",
              "    </tr>\n",
              "    <tr>\n",
              "      <th>17</th>\n",
              "      <td>PS3</td>\n",
              "      <td>Action</td>\n",
              "      <td>Take-Two Interactive</td>\n",
              "      <td>380.94</td>\n",
              "    </tr>\n",
              "    <tr>\n",
              "      <th>18</th>\n",
              "      <td>X360</td>\n",
              "      <td>Action</td>\n",
              "      <td>Capcom</td>\n",
              "      <td>346.60</td>\n",
              "    </tr>\n",
              "    <tr>\n",
              "      <th>19</th>\n",
              "      <td>PSP</td>\n",
              "      <td>Racing</td>\n",
              "      <td>Electronic Arts</td>\n",
              "      <td>329.28</td>\n",
              "    </tr>\n",
              "    <tr>\n",
              "      <th>20</th>\n",
              "      <td>GBA</td>\n",
              "      <td>Role-Playing</td>\n",
              "      <td>Nintendo</td>\n",
              "      <td>316.26</td>\n",
              "    </tr>\n",
              "    <tr>\n",
              "      <th>21</th>\n",
              "      <td>GBA</td>\n",
              "      <td>Role-Playing</td>\n",
              "      <td>Capcom</td>\n",
              "      <td>313.78</td>\n",
              "    </tr>\n",
              "    <tr>\n",
              "      <th>22</th>\n",
              "      <td>DS</td>\n",
              "      <td>Simulation</td>\n",
              "      <td>Electronic Arts</td>\n",
              "      <td>306.89</td>\n",
              "    </tr>\n",
              "    <tr>\n",
              "      <th>23</th>\n",
              "      <td>PS2</td>\n",
              "      <td>Shooter</td>\n",
              "      <td>SCi</td>\n",
              "      <td>291.01</td>\n",
              "    </tr>\n",
              "    <tr>\n",
              "      <th>24</th>\n",
              "      <td>PS2</td>\n",
              "      <td>Racing</td>\n",
              "      <td>Infogrames</td>\n",
              "      <td>290.72</td>\n",
              "    </tr>\n",
              "    <tr>\n",
              "      <th>25</th>\n",
              "      <td>Wii</td>\n",
              "      <td>Action</td>\n",
              "      <td>Electronic Arts</td>\n",
              "      <td>282.35</td>\n",
              "    </tr>\n",
              "    <tr>\n",
              "      <th>26</th>\n",
              "      <td>X360</td>\n",
              "      <td>Action</td>\n",
              "      <td>THQ</td>\n",
              "      <td>276.55</td>\n",
              "    </tr>\n",
              "    <tr>\n",
              "      <th>27</th>\n",
              "      <td>PS2</td>\n",
              "      <td>Role-Playing</td>\n",
              "      <td>Banpresto</td>\n",
              "      <td>240.61</td>\n",
              "    </tr>\n",
              "    <tr>\n",
              "      <th>28</th>\n",
              "      <td>X360</td>\n",
              "      <td>Shooter</td>\n",
              "      <td>Ubisoft</td>\n",
              "      <td>238.70</td>\n",
              "    </tr>\n",
              "    <tr>\n",
              "      <th>29</th>\n",
              "      <td>PS2</td>\n",
              "      <td>Misc</td>\n",
              "      <td>Sony Computer Entertainment</td>\n",
              "      <td>233.75</td>\n",
              "    </tr>\n",
              "  </tbody>\n",
              "</table>\n",
              "</div>"
            ],
            "text/plain": [
              "   Platform         Genre                    Publisher  Total_Sales\n",
              "0       GBA      Platform                     Nintendo      2961.87\n",
              "1        PS  Role-Playing                   SquareSoft      2782.53\n",
              "2      X360          Misc                   Activision      2023.39\n",
              "3        DS    Simulation                    505 Games      1621.35\n",
              "4        PS      Fighting                          THQ      1355.43\n",
              "5       GBA        Action              Electronic Arts      1215.23\n",
              "6      X360    Simulation       Microsoft Game Studios       961.14\n",
              "7       Wii          Misc              Electronic Arts       765.46\n",
              "8       PS2        Sports              Electronic Arts       751.07\n",
              "9       PS2          Misc                 Midway Games       721.99\n",
              "10      PS3          Misc                         Sega       621.65\n",
              "11      N64        Sports              Electronic Arts       600.53\n",
              "12       DS          Misc                    505 Games       541.41\n",
              "13      PS3        Action                   Activision       506.96\n",
              "14      PS3    Simulation  Sony Computer Entertainment       491.56\n",
              "15       PS        Racing           Empire Interactive       480.39\n",
              "16       DS        Action                          THQ       427.18\n",
              "17      PS3        Action         Take-Two Interactive       380.94\n",
              "18     X360        Action                       Capcom       346.60\n",
              "19      PSP        Racing              Electronic Arts       329.28\n",
              "20      GBA  Role-Playing                     Nintendo       316.26\n",
              "21      GBA  Role-Playing                       Capcom       313.78\n",
              "22       DS    Simulation              Electronic Arts       306.89\n",
              "23      PS2       Shooter                          SCi       291.01\n",
              "24      PS2        Racing                   Infogrames       290.72\n",
              "25      Wii        Action              Electronic Arts       282.35\n",
              "26     X360        Action                          THQ       276.55\n",
              "27      PS2  Role-Playing                    Banpresto       240.61\n",
              "28     X360       Shooter                      Ubisoft       238.70\n",
              "29      PS2          Misc  Sony Computer Entertainment       233.75"
            ]
          },
          "metadata": {
            "tags": []
          },
          "execution_count": 345
        }
      ]
    },
    {
      "cell_type": "code",
      "metadata": {
        "colab": {
          "base_uri": "https://localhost:8080/",
          "height": 357
        },
        "id": "XHuBXP5NN621",
        "outputId": "ac852d1c-a2a5-49ed-bd96-a785d55cc36f"
      },
      "source": [
        "# 최근 10년동안 출고량이 높은 게임 \n",
        "df_best_2010 = df_best[df_best['Year'] == '2010 ~ 2020'].reset_index().drop(columns=['index'])\n",
        "df_best_2010 = df_best_2010.drop(columns=['Year'])\n",
        "df_best_2010 = df_best_2010.groupby(['Platform', 'Genre', 'Publisher']).agg({'Total_Sales':sum}).reset_index()\n",
        "df_best_2010 = df_best_2010.sort_values(by=['Total_Sales'], ascending=False, axis= 0).reset_index().drop(columns=['index']).head(10)\n",
        "df_best_2010"
      ],
      "execution_count": 307,
      "outputs": [
        {
          "output_type": "execute_result",
          "data": {
            "text/html": [
              "<div>\n",
              "<style scoped>\n",
              "    .dataframe tbody tr th:only-of-type {\n",
              "        vertical-align: middle;\n",
              "    }\n",
              "\n",
              "    .dataframe tbody tr th {\n",
              "        vertical-align: top;\n",
              "    }\n",
              "\n",
              "    .dataframe thead th {\n",
              "        text-align: right;\n",
              "    }\n",
              "</style>\n",
              "<table border=\"1\" class=\"dataframe\">\n",
              "  <thead>\n",
              "    <tr style=\"text-align: right;\">\n",
              "      <th></th>\n",
              "      <th>Platform</th>\n",
              "      <th>Genre</th>\n",
              "      <th>Publisher</th>\n",
              "      <th>Total_Sales</th>\n",
              "    </tr>\n",
              "  </thead>\n",
              "  <tbody>\n",
              "    <tr>\n",
              "      <th>0</th>\n",
              "      <td>PS3</td>\n",
              "      <td>Action</td>\n",
              "      <td>Ubisoft</td>\n",
              "      <td>2581.25</td>\n",
              "    </tr>\n",
              "    <tr>\n",
              "      <th>1</th>\n",
              "      <td>X360</td>\n",
              "      <td>Shooter</td>\n",
              "      <td>Electronic Arts</td>\n",
              "      <td>2152.66</td>\n",
              "    </tr>\n",
              "    <tr>\n",
              "      <th>2</th>\n",
              "      <td>PS4</td>\n",
              "      <td>Shooter</td>\n",
              "      <td>Activision</td>\n",
              "      <td>1813.04</td>\n",
              "    </tr>\n",
              "    <tr>\n",
              "      <th>3</th>\n",
              "      <td>PS3</td>\n",
              "      <td>Sports</td>\n",
              "      <td>Take-Two Interactive</td>\n",
              "      <td>1621.28</td>\n",
              "    </tr>\n",
              "    <tr>\n",
              "      <th>4</th>\n",
              "      <td>XOne</td>\n",
              "      <td>Racing</td>\n",
              "      <td>Microsoft Game Studios</td>\n",
              "      <td>1214.47</td>\n",
              "    </tr>\n",
              "    <tr>\n",
              "      <th>5</th>\n",
              "      <td>PC</td>\n",
              "      <td>Strategy</td>\n",
              "      <td>Activision</td>\n",
              "      <td>1015.99</td>\n",
              "    </tr>\n",
              "    <tr>\n",
              "      <th>6</th>\n",
              "      <td>PS3</td>\n",
              "      <td>Shooter</td>\n",
              "      <td>Activision</td>\n",
              "      <td>720.47</td>\n",
              "    </tr>\n",
              "    <tr>\n",
              "      <th>7</th>\n",
              "      <td>WiiU</td>\n",
              "      <td>Platform</td>\n",
              "      <td>Nintendo</td>\n",
              "      <td>638.65</td>\n",
              "    </tr>\n",
              "    <tr>\n",
              "      <th>8</th>\n",
              "      <td>PS4</td>\n",
              "      <td>Role-Playing</td>\n",
              "      <td>Namco Bandai Games</td>\n",
              "      <td>566.53</td>\n",
              "    </tr>\n",
              "    <tr>\n",
              "      <th>9</th>\n",
              "      <td>X360</td>\n",
              "      <td>Role-Playing</td>\n",
              "      <td>Electronic Arts</td>\n",
              "      <td>557.54</td>\n",
              "    </tr>\n",
              "  </tbody>\n",
              "</table>\n",
              "</div>"
            ],
            "text/plain": [
              "  Platform         Genre               Publisher  Total_Sales\n",
              "0      PS3        Action                 Ubisoft      2581.25\n",
              "1     X360       Shooter         Electronic Arts      2152.66\n",
              "2      PS4       Shooter              Activision      1813.04\n",
              "3      PS3        Sports    Take-Two Interactive      1621.28\n",
              "4     XOne        Racing  Microsoft Game Studios      1214.47\n",
              "5       PC      Strategy              Activision      1015.99\n",
              "6      PS3       Shooter              Activision       720.47\n",
              "7     WiiU      Platform                Nintendo       638.65\n",
              "8      PS4  Role-Playing      Namco Bandai Games       566.53\n",
              "9     X360  Role-Playing         Electronic Arts       557.54"
            ]
          },
          "metadata": {
            "tags": []
          },
          "execution_count": 307
        }
      ]
    },
    {
      "cell_type": "code",
      "metadata": {
        "colab": {
          "base_uri": "https://localhost:8080/",
          "height": 350
        },
        "id": "KgZQ4rpPQfvP",
        "outputId": "71f54f46-76e1-492c-c3e6-0b4db1786108"
      },
      "source": [
        "# 시대가 바뀜에다라 Action 장르 게임 판매량 변화\n",
        "\n",
        "# 1980~1989\n",
        "ac_1980 = df_best_1980[df_best_1980['Genre'] == 'Action'].reset_index().drop(columns=['index'])\n",
        "ac_1980 = ac_1980.loc[0, 'Total_Sales']\n",
        "\n",
        "# 1990~1999\n",
        "ac_1990 = df_best_1990[df_best_1990['Genre'] == 'Action'].reset_index().drop(columns=['index'])\n",
        "ac_1990 = ac_1990.loc[0, 'Total_Sales']\n",
        "\n",
        "# 2000~2010\n",
        "ac_2000 = df_best_2000[df_best_2000['Genre'] == 'Action'].reset_index().drop(columns=['index'])\n",
        "ac_2000 = ac_2000.loc[0, 'Total_Sales']\n",
        "\n",
        "# 2011~2020\n",
        "ac_2010 = df_best_2010[df_best_2010['Genre'] == 'Action'].reset_index().drop(columns=['index'])\n",
        "ac_2010 = ac_2010.loc[0, 'Total_Sales']\n",
        "\n",
        "ac_variation = [ac_1980, ac_1990, ac_2000, ac_2010]\n",
        "x_aclabel = ['1980s', '1990s', '2000s', '2010s']\n",
        "y_ac_ranking = [7, 1, 5, 1]\n",
        "ac_pd = pd.DataFrame({'year':x_aclabel, 'Sales':ac_variation, 'Rank':y_ac_ranking})\n",
        "\n",
        "# 2개의 y축으로 시각화\n",
        "ax = ac_pd.plot('year', 'Sales', figsize=(5, 5), marker='s', color='red', ylabel='Sales variation')\n",
        "ac_pd.plot('year', 'Rank', secondary_y=True, ax=ax, marker='o', color='green').invert_yaxis()\n",
        "plt.title('Action Game Variation')\n",
        "plt.show();"
      ],
      "execution_count": 368,
      "outputs": [
        {
          "output_type": "display_data",
          "data": {
            "image/png": "[encoded data removed]",
            "text/plain": [
              "<Figure size 360x360 with 2 Axes>"
            ]
          },
          "metadata": {
            "tags": [],
            "needs_background": "light"
          }
        }
      ]
    },
    {
      "cell_type": "code",
      "metadata": {
        "colab": {
          "base_uri": "https://localhost:8080/",
          "height": 350
        },
        "id": "UXFDfy3iVZPV",
        "outputId": "e5ecd6c5-4368-49e2-ac39-7f0a45596e69"
      },
      "source": [
        "# 시대가 바뀜에다라 Shooter 장르 게임 판매량 변화\n",
        "\n",
        "# 1980~1989\n",
        "st_1980 = df_best_1980[df_best_1980['Genre'] == 'Shooter'].reset_index().drop(columns=['index'])\n",
        "st_1980 = st_1980.loc[0, 'Total_Sales']\n",
        "\n",
        "# 1990~1999\n",
        "st_1990 = df_best_1990[df_best_1990['Genre'] == 'Shooter'].reset_index().drop(columns=['index'])\n",
        "st_1990 = st_1990.loc[0, 'Total_Sales']\n",
        "\n",
        "# 2000~2010\n",
        "st_2000 = df_best_2000[df_best_2000['Genre'] == 'Shooter'].reset_index().drop(columns=['index'])\n",
        "st_2000 = st_2000.loc[0, 'Total_Sales'] + st_2000.loc[1, 'Total_Sales']\n",
        "\n",
        "# 2011~2020\n",
        "st_2010 = df_best_2010[df_best_2010['Genre'] == 'Shooter'].reset_index().drop(columns=['index'])\n",
        "st_2010 = st_2010.loc[0, 'Total_Sales']\n",
        "\n",
        "st_variation = [st_1980, st_1990, st_2000, st_2010]\n",
        "x_stlabel = ['1980s', '1990s', '2000s', '2010s']\n",
        "y_st_ranking = [4, 4, 3, 2]\n",
        "st_pd = pd.DataFrame({'year':x_stlabel, 'Sales':st_variation, 'Rank':y_st_ranking})\n",
        "\n",
        "# 2개의 y축으로 시각화\n",
        "ax = st_pd.plot('year', 'Sales', figsize=(5, 5), ylabel='Sales variaion', marker='s', color='red')\n",
        "st_pd.plot('year', 'Rank', secondary_y=True, ax=ax, marker='o', color='green').invert_yaxis()\n",
        "plt.title('Shooter Game Variation')\n",
        "plt.show();"
      ],
      "execution_count": 367,
      "outputs": [
        {
          "output_type": "display_data",
          "data": {
            "image/png": "[encoded data removed]",
            "text/plain": [
              "<Figure size 360x360 with 2 Axes>"
            ]
          },
          "metadata": {
            "tags": [],
            "needs_background": "light"
          }
        }
      ]
    },
    {
      "cell_type": "code",
      "metadata": {
        "id": "8DnKx1CBiARz"
      },
      "source": [
        "# 전처리 과정\n",
        "\n",
        "df_ps = create_total(df_ps)\n",
        "df_ps = df_ps.drop(columns=['Name', 'Publisher', 'Genre', 'NA_Sales', 'EU_Sales', 'JP_Sales', 'Other_Sales'])\n",
        "df_ps = df_ps[(df_ps['Platform'] == 'PS') | (df_ps['Platform'] == 'PS2') | (df_ps['Platform'] == 'PS3') | (df_ps['Platform'] == 'PS4')].reset_index().drop(columns=['index'])\n",
        "df_ps = df_ps.groupby(['Platform', 'Year']).agg({'Total_Sales':sum}).reset_index()\n",
        "df_ps = create_yrcat(df_ps, 'Year')"
      ],
      "execution_count": 391,
      "outputs": []
    },
    {
      "cell_type": "code",
      "metadata": {
        "id": "GMCiERqseYWR"
      },
      "source": [
        "# 시대가 지남에 따라 플레이스테이션 사용량 증가 그래프 작성\n",
        "\n",
        "df_ps = df_ps.groupby(['Platform', 'Year']).agg({'Total_Sales':sum}).reset_index()\n",
        "\n",
        "# PS\n",
        "df_ps_one = df_ps[df_ps['Platform'] == 'PS']\n",
        "\n",
        "# PS2\n",
        "df_ps_two = df_ps[df_ps['Platform'] == 'PS2']\n",
        "\n",
        "# PS3~4\n",
        "df_ps_certain = df_ps[(df_ps['Platform'] == 'PS3') | (df_ps['Platform'] == 'PS4')]"
      ],
      "execution_count": 395,
      "outputs": []
    },
    {
      "cell_type": "code",
      "metadata": {
        "colab": {
          "base_uri": "https://localhost:8080/",
          "height": 443
        },
        "id": "RPn9GxTGxmjk",
        "outputId": "bc906a38-68dc-4f69-9829-191a872d8ab7"
      },
      "source": [
        "# PS1 년도별 판매량 시각화\n",
        "\n",
        "x_one = np.array(df_ps_one['Year'])\n",
        "y_one = np.array(df_ps_one['Total_Sales'])\n",
        "\n",
        "plt.rcParams[\"figure.figsize\"] = (3,5)\n",
        "plt.bar(x_one, y_one)\n",
        "plt.title('PS Sales volume')\n",
        "plt.xlabel('Year of Sale')\n",
        "plt.ylabel('Sales volume')\n",
        "plt.show();\n",
        "df_ps_one"
      ],
      "execution_count": 410,
      "outputs": [
        {
          "output_type": "display_data",
          "data": {
            "image/png": "[encoded data removed]",
            "text/plain": [
              "<Figure size 216x360 with 1 Axes>"
            ]
          },
          "metadata": {
            "tags": [],
            "needs_background": "light"
          }
        },
        {
          "output_type": "execute_result",
          "data": {
            "text/html": [
              "<div>\n",
              "<style scoped>\n",
              "    .dataframe tbody tr th:only-of-type {\n",
              "        vertical-align: middle;\n",
              "    }\n",
              "\n",
              "    .dataframe tbody tr th {\n",
              "        vertical-align: top;\n",
              "    }\n",
              "\n",
              "    .dataframe thead th {\n",
              "        text-align: right;\n",
              "    }\n",
              "</style>\n",
              "<table border=\"1\" class=\"dataframe\">\n",
              "  <thead>\n",
              "    <tr style=\"text-align: right;\">\n",
              "      <th></th>\n",
              "      <th>Platform</th>\n",
              "      <th>Year</th>\n",
              "      <th>Total_Sales</th>\n",
              "    </tr>\n",
              "  </thead>\n",
              "  <tbody>\n",
              "    <tr>\n",
              "      <th>0</th>\n",
              "      <td>PS</td>\n",
              "      <td>1990 ~ 1999</td>\n",
              "      <td>6776.73</td>\n",
              "    </tr>\n",
              "    <tr>\n",
              "      <th>1</th>\n",
              "      <td>PS</td>\n",
              "      <td>2000 ~ 2009</td>\n",
              "      <td>5355.33</td>\n",
              "    </tr>\n",
              "  </tbody>\n",
              "</table>\n",
              "</div>"
            ],
            "text/plain": [
              "  Platform         Year  Total_Sales\n",
              "0       PS  1990 ~ 1999      6776.73\n",
              "1       PS  2000 ~ 2009      5355.33"
            ]
          },
          "metadata": {
            "tags": []
          },
          "execution_count": 410
        }
      ]
    },
    {
      "cell_type": "code",
      "metadata": {
        "colab": {
          "base_uri": "https://localhost:8080/",
          "height": 443
        },
        "id": "GygawVQoyzaW",
        "outputId": "4948c6f7-533d-4528-a6c8-453dcf5ee6a7"
      },
      "source": [
        "# PS2 년도별 판매량 시각화\n",
        "\n",
        "x_two = np.array(df_ps_two['Year'])\n",
        "y_two = np.array(df_ps_two['Total_Sales'])\n",
        "\n",
        "plt.rcParams[\"figure.figsize\"] = (3,5)\n",
        "plt.bar(x_two, y_two)\n",
        "plt.title('PS2 Sales volume')\n",
        "plt.xlabel('Year of Sale')\n",
        "plt.ylabel('Sales volume')\n",
        "plt.show();\n",
        "df_ps_two"
      ],
      "execution_count": 413,
      "outputs": [
        {
          "output_type": "display_data",
          "data": {
            "image/png": "[encoded data removed]",
            "text/plain": [
              "<Figure size 216x360 with 1 Axes>"
            ]
          },
          "metadata": {
            "tags": [],
            "needs_background": "light"
          }
        },
        {
          "output_type": "execute_result",
          "data": {
            "text/html": [
              "<div>\n",
              "<style scoped>\n",
              "    .dataframe tbody tr th:only-of-type {\n",
              "        vertical-align: middle;\n",
              "    }\n",
              "\n",
              "    .dataframe tbody tr th {\n",
              "        vertical-align: top;\n",
              "    }\n",
              "\n",
              "    .dataframe thead th {\n",
              "        text-align: right;\n",
              "    }\n",
              "</style>\n",
              "<table border=\"1\" class=\"dataframe\">\n",
              "  <thead>\n",
              "    <tr style=\"text-align: right;\">\n",
              "      <th></th>\n",
              "      <th>Platform</th>\n",
              "      <th>Year</th>\n",
              "      <th>Total_Sales</th>\n",
              "    </tr>\n",
              "  </thead>\n",
              "  <tbody>\n",
              "    <tr>\n",
              "      <th>2</th>\n",
              "      <td>PS2</td>\n",
              "      <td>2000 ~ 2009</td>\n",
              "      <td>5582.37</td>\n",
              "    </tr>\n",
              "    <tr>\n",
              "      <th>3</th>\n",
              "      <td>PS2</td>\n",
              "      <td>2010 ~ 2020</td>\n",
              "      <td>5.57</td>\n",
              "    </tr>\n",
              "  </tbody>\n",
              "</table>\n",
              "</div>"
            ],
            "text/plain": [
              "  Platform         Year  Total_Sales\n",
              "2      PS2  2000 ~ 2009      5582.37\n",
              "3      PS2  2010 ~ 2020         5.57"
            ]
          },
          "metadata": {
            "tags": []
          },
          "execution_count": 413
        }
      ]
    },
    {
      "cell_type": "code",
      "metadata": {
        "colab": {
          "base_uri": "https://localhost:8080/",
          "height": 474
        },
        "id": "QSr8AfCCzFq3",
        "outputId": "06482924-bb68-47ad-aa41-b6c39461210d"
      },
      "source": [
        "# PS3~4 년도별 판매량 시각화\n",
        "\n",
        "\n",
        "plt.rcParams[\"figure.figsize\"] = (6,5)\n",
        "plt.bar(['2000 ~ 2009 PS3', '2010 ~ 2020 PS3', '2010 ~ 2020 PS4'], np.array(df_ps_certain['Total_Sales']))\n",
        "plt.title('PS3~4 Sales volume')\n",
        "plt.xlabel('Year of Sale')\n",
        "plt.ylabel('Sales volume')\n",
        "plt.show();\n",
        "df_ps_certain"
      ],
      "execution_count": 421,
      "outputs": [
        {
          "output_type": "display_data",
          "data": {
            "image/png": "[encoded data removed]",
            "text/plain": [
              "<Figure size 432x360 with 1 Axes>"
            ]
          },
          "metadata": {
            "tags": [],
            "needs_background": "light"
          }
        },
        {
          "output_type": "execute_result",
          "data": {
            "text/html": [
              "<div>\n",
              "<style scoped>\n",
              "    .dataframe tbody tr th:only-of-type {\n",
              "        vertical-align: middle;\n",
              "    }\n",
              "\n",
              "    .dataframe tbody tr th {\n",
              "        vertical-align: top;\n",
              "    }\n",
              "\n",
              "    .dataframe thead th {\n",
              "        text-align: right;\n",
              "    }\n",
              "</style>\n",
              "<table border=\"1\" class=\"dataframe\">\n",
              "  <thead>\n",
              "    <tr style=\"text-align: right;\">\n",
              "      <th></th>\n",
              "      <th>Platform</th>\n",
              "      <th>Year</th>\n",
              "      <th>Total_Sales</th>\n",
              "    </tr>\n",
              "  </thead>\n",
              "  <tbody>\n",
              "    <tr>\n",
              "      <th>4</th>\n",
              "      <td>PS3</td>\n",
              "      <td>2000 ~ 2009</td>\n",
              "      <td>2542.95</td>\n",
              "    </tr>\n",
              "    <tr>\n",
              "      <th>5</th>\n",
              "      <td>PS3</td>\n",
              "      <td>2010 ~ 2020</td>\n",
              "      <td>6674.02</td>\n",
              "    </tr>\n",
              "    <tr>\n",
              "      <th>6</th>\n",
              "      <td>PS4</td>\n",
              "      <td>2010 ~ 2020</td>\n",
              "      <td>3206.21</td>\n",
              "    </tr>\n",
              "  </tbody>\n",
              "</table>\n",
              "</div>"
            ],
            "text/plain": [
              "  Platform         Year  Total_Sales\n",
              "4      PS3  2000 ~ 2009      2542.95\n",
              "5      PS3  2010 ~ 2020      6674.02\n",
              "6      PS4  2010 ~ 2020      3206.21"
            ]
          },
          "metadata": {
            "tags": []
          },
          "execution_count": 421
        }
      ]
    },
    {
      "cell_type": "code",
      "metadata": {
        "id": "pEo-S_iT01Fw"
      },
      "source": [
        "# 질문 : 다음 분기에 어떤 게임을 설계해야 할까\n",
        "# 대답 : PS4로 즐길 수 있는 Action과 Shooting의 장르가 포함된 게임을 설계함"
      ],
      "execution_count": 422,
      "outputs": []
    }
  ]
}